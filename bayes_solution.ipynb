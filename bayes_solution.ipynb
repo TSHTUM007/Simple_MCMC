{
 "cells": [
  {
   "cell_type": "code",
   "execution_count": 1,
   "metadata": {},
   "outputs": [],
   "source": [
    "from math import *\n",
    "from numpy import *\n",
    "from scipy import *\n",
    "import numpy.random as nprandom\n",
    "\n",
    "\n",
    "from pylab import *\n",
    "\n"
   ]
  },
  {
   "cell_type": "code",
   "execution_count": 22,
   "metadata": {},
   "outputs": [],
   "source": [
    "# The data we will fit:\n",
    "#  x, y, sigma_y\n",
    "data1 = array([[201,592,61],[244,401,25],[47,583,38],[287,402,15],[203,495,21],\n",
    "      [58,173,15],[210,479,27],[202,504,14],[198,510,30],[158,416,16],\n",
    "       [165,393,14],[201,442,25],[157,317,52],[131,311,16],[166,400,34],\n",
    "      [160,337,31],[186,423,42],[125,334,26],[218,533,16],[146,344,22]])\n",
    "\n",
    "# plotting limits\n",
    "xlimits = [0,250]\n",
    "ylimits = [100,600]\n",
    "title_prefix = 'Problem set 1'\n",
    "plot_format = '.png'"
   ]
  },
  {
   "cell_type": "code",
   "execution_count": 19,
   "metadata": {},
   "outputs": [],
   "source": [
    "def get_data_no_outliers():\n",
    "    # pull out the x, y, and sigma_y columns, which have been packed into the\n",
    "    # \"data1\" matrix.  \"data1\" has shape (20,3).  \":\" means \"everything in\n",
    "    # that dimension\".  Some of the first 5 points are outliers so for this\n",
    "    # part we only grab from index 5 on, with magic \"5:\"\n",
    "    x = data1[5:,0]\n",
    "    y = data1[5:,1]\n",
    "    sigmay = data1[5:,2]\n",
    "    return (x, y, sigmay)\n"
   ]
  },
  {
   "cell_type": "code",
   "execution_count": 20,
   "metadata": {},
   "outputs": [],
   "source": [
    "# Plot data with error bars, standard axis limits, etc.\n",
    "def plot_yerr(x, y, sigmay):\n",
    "    # plot data with error bars\n",
    "    errorbar(x, y, yerr=sigmay, fmt='.', ms=7, lw=1, color='k')\n",
    "    # if you put '$' in you can make Latex labels\n",
    "    xlabel('$x$')\n",
    "    ylabel('$y$')\n",
    "    xlim(*xlimits)\n",
    "    ylim(*ylimits)\n",
    "    title(title_prefix)"
   ]
  },
  {
   "cell_type": "code",
   "execution_count": 23,
   "metadata": {},
   "outputs": [],
   "source": [
    "# Plot a   y = mx + b  line.\n",
    "def plot_line(b, m):\n",
    "\tx = array(xlimits)\n",
    "\ty = b + m*x\n",
    "\tplot(x, y, 'k-', alpha=0.5)\n",
    "\txlim(*xlimits)\n",
    "\tylim(*ylimits)"
   ]
  },
  {
   "cell_type": "code",
   "execution_count": 9,
   "metadata": {},
   "outputs": [],
   "source": [
    "def straight_line_gaussian_likelihood(x, y, sigmay, m, b):\n",
    "\n",
    "    pi = np.pi\n",
    "    mu = m*x + b\n",
    "\n",
    "    c = 1/((sqrt(2*pi))*sigmay)\n",
    "    #print c ; c is for the normalisation of the pdf\n",
    "\n",
    "    argument = -0.5*( (y - mu)/(sigmay) )**2\n",
    "    #print argument\n",
    "\n",
    "    d = c*exp(argument)\n",
    "    e = exp(0)\n",
    "    #print e\n",
    "\n",
    "    dd = prod(d)\n",
    "\n",
    "    return dd"
   ]
  },
  {
   "cell_type": "code",
   "execution_count": 13,
   "metadata": {},
   "outputs": [],
   "source": [
    "def testing():\n",
    "    (x, y, sigmay) = get_data_no_outliers()\n",
    "    (m,b) = (2.2,30)\n",
    "    #(m,b) = (32,2.2)\n",
    "\n",
    "    print ('Likelihood at', (m,b), 'is', straight_line_gaussian_likelihood(x, y, sigmay, m, b))\n"
   ]
  },
  {
   "cell_type": "code",
   "execution_count": 17,
   "metadata": {},
   "outputs": [],
   "source": [
    "def MHP():\n",
    "#Metrpolis-Hastings algorithm \n",
    "# call straight_line_gaussian_likelihood(x, y, sigmay, m, b)\n",
    "\n",
    "\n",
    "\n",
    "    (x, y, sigmay) = get_data_no_outliers()\n",
    "    (mo,bo) = (2.2,30) # intialize with gueses\n",
    "    #(m,b) = (32,2.2)\n",
    "    Lo = straight_line_gaussian_likelihood(x, y, sigmay, mo, bo)\n",
    "\n",
    "    \n",
    "    sigma_m = 0.04 \n",
    "    sigma_b = 4\n",
    "\n",
    "    delta_m = 0  + sigma_m*nprandom.normal() #jumps or step size\n",
    "    delta_b = 0  + sigma_b*nprandom.normal() \n",
    "\n",
    "\n",
    "    N = 10000 # Number of steps.\n",
    "    #u[2:0] = (mo,bo)\n",
    "   \n",
    "    delta = zeros((1,2))\n",
    "    L = zeros((N,1))\n",
    "    previous = zeros((1,2))\n",
    "    candidate = zeros((1,2))\n",
    "    \n",
    "    U = zeros((N,3))\n",
    "    U[0,0] = mo #slope\n",
    "    U[0,1] = bo #intercept\n",
    "    U[0,2] = Lo #likelyhood\n",
    "\n",
    "    #print U\n",
    "\n",
    "    ctrl = 0\n",
    "    for i in range(N-1):\n",
    "\n",
    "            delta_m = 0  + sigma_m*nprandom.normal() \n",
    "            delta_b = 0  + sigma_b*nprandom.normal() \n",
    "\n",
    "            delta[0,0] = delta_m\n",
    "            delta[0,1] = delta_b\n",
    "\n",
    "\n",
    "            previous[0,0] = U[i,0]\n",
    "            previous[0,1] = U[i,1]\n",
    "\n",
    "            L = U[i,2] \n",
    "            \n",
    "            candidate = previous + delta\n",
    "\n",
    "\n",
    "        #    print i\n",
    "\n",
    "            m = candidate[0,0]\n",
    "            b = candidate[0,1]\n",
    "\n",
    "            U[i+1,2] = straight_line_gaussian_likelihood(x, y, sigmay, m, b)\n",
    "\n",
    "            R = U[i+1,2]/U[i,2]\n",
    "\n",
    "        #    print previous\n",
    "        #    print candidate\n",
    "        #    print candidate\n",
    "        #    print R\n",
    "        #    print delta\n",
    "\n",
    "            if R >= 1:\n",
    "                  # take step\n",
    "                U[i+1,0] = candidate[0,0]\n",
    "                U[i+1,1] = candidate[0,1]\n",
    "                U[i+1,2] = U[i+1,2]\n",
    "                ctrl = ctrl + 1\n",
    "            else:\n",
    "                urand = nprandom.uniform()\n",
    "                if R >= urand:\n",
    "                # take step\n",
    "                    U[i+1,0] = candidate[0,0]\n",
    "                    U[i+1,1] = candidate[0,1]\n",
    "                    U[i+1,2] = U[i+1,2]\n",
    "                    ctrl = ctrl + 1\n",
    "                else:\n",
    "                # reject = stay there\n",
    "                    U[i+1,0] = previous[0,0]\n",
    "                    U[i+1,1] = previous[0,1]\n",
    "                    U[i+1,2] = U[i,2]\n",
    "    #print U\n",
    "    param1 = U[:,0]\n",
    "    param2 = U[:,1]\n",
    "    #plot_line(m, b)\n",
    "    clf()\n",
    "    mm = hist(param1,50)\n",
    "    m_est = mean(param1)\n",
    "    m_err = sqrt(var(param1))\n",
    "    savefig('mcmc-mhist.png')\n",
    "    show()\n",
    "    #print m_est, m_err\n",
    "    print('m_est, m_err:', m_est, m_err)\n",
    "    clf()\n",
    "    hist(param2,50)\n",
    "    #bb = hist(param2,50)\n",
    "    b_est = mean(param2)\n",
    "    b_err = sqrt(var(param2))\n",
    "    savefig('mcmc-bhist.png')\n",
    "    show()\n",
    "    #print b_est, b_err\n",
    "    print('b_est, b_err:', b_est, b_err)\n",
    "    clf()\n",
    "    plot_yerr(x,y,sigmay)\n",
    "    title(title_prefix + ': Data for MCMC minimization')\n",
    "    savefig('p1-data' + plot_format)\n",
    "    # plot the straight line that best fits the dataset\n",
    "    show()\n",
    "    plot_yerr(x,y,sigmay)    \n",
    "    plot_line(b_est, m_est)\n",
    "    title(title_prefix + ': MCMC minimization')\n",
    "    savefig('p1-mcmcc' + plot_format)\n",
    "    plot_line(b_est, m_est)\n",
    "    # re-plot the data points\n",
    "    plot_yerr(x, y, sigmay)\n",
    "    title(title_prefix + ': MCMC minimization')\n",
    "    # plot the straight line that best fits the dataset\n",
    "    #plot_line(m, b)\n",
    "    show()\n",
    "    #plot_yerr(x, y, sigmay)\n",
    "\n",
    "    #plt.plot(x,y)\n",
    "    #savefig('XY-test.png')\n",
    "\n",
    "    return U"
   ]
  },
  {
   "cell_type": "code",
   "execution_count": 18,
   "metadata": {},
   "outputs": [
    {
     "data": {
      "image/png": "[encoded data removed]",
      "text/plain": [
       "<matplotlib.figure.Figure at 0x7fb23aa0fa20>"
      ]
     },
     "metadata": {},
     "output_type": "display_data"
    },
    {
     "name": "stdout",
     "output_type": "stream",
     "text": [
      "m_est, m_err: 2.209837764197852 0.1177939800278897\n"
     ]
    },
    {
     "data": {
      "image/png": "[encoded data removed]",
      "text/plain": [
       "<matplotlib.figure.Figure at 0x7fb23aa34128>"
      ]
     },
     "metadata": {},
     "output_type": "display_data"
    },
    {
     "name": "stdout",
     "output_type": "stream",
     "text": [
      "b_est, b_err: 38.77505769252546 19.695215518831215\n"
     ]
    },
    {
     "data": {
      "image/png": "[encoded data removed]",
      "text/plain": [
       "<matplotlib.figure.Figure at 0x7fb23cae9588>"
      ]
     },
     "metadata": {},
     "output_type": "display_data"
    },
    {
     "data": {
      "image/png": "[encoded data removed]",
      "text/plain": [
       "<matplotlib.figure.Figure at 0x7fb23a8aa438>"
      ]
     },
     "metadata": {},
     "output_type": "display_data"
    }
   ],
   "source": [
    "# This block executes when you run \"python wrapper.py\".\n",
    "if __name__ == '__main__':\n",
    "\t#problem1() # Check that this works\n",
    "\t#uncomment this when you are ready to do problem 2.\n",
    "    MHP()"
   ]
  },
  {
   "cell_type": "code",
   "execution_count": null,
   "metadata": {},
   "outputs": [],
   "source": [
    "\n"
   ]
  },
  {
   "cell_type": "code",
   "execution_count": null,
   "metadata": {
    "collapsed": true
   },
   "outputs": [],
   "source": []
  },
  {
   "cell_type": "code",
   "execution_count": null,
   "metadata": {
    "collapsed": true
   },
   "outputs": [],
   "source": []
  }
 ],
 "metadata": {
  "kernelspec": {
   "display_name": "Python 3",
   "language": "python",
   "name": "python3"
  },
  "language_info": {
   "codemirror_mode": {
    "name": "ipython",
    "version": 3
   },
   "file_extension": ".py",
   "mimetype": "text/x-python",
   "name": "python",
   "nbconvert_exporter": "python",
   "pygments_lexer": "ipython3",
   "version": "3.5.2"
  }
 },
 "nbformat": 4,
 "nbformat_minor": 2
}
